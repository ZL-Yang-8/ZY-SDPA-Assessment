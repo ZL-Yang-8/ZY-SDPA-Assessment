{
 "cells": [
  {
   "cell_type": "code",
   "execution_count": 32,
   "metadata": {},
   "outputs": [],
   "source": [
    "L1=[3,5,6,12,3,1,5,6,2]\n",
    "L2=[6,5,3]\n",
    "L3=[]\n",
    "\n",
    "def newsort(L1,L2):\n",
    "    for i in L2:\n",
    "        for j in L1:\n",
    "            if i==j:\n",
    "                L3.append(j)\n",
    "                L1.remove(j)\n",
    "    L1=sorted(L1)\n",
    "    print(L3+L1)"
   ]
  },
  {
   "cell_type": "code",
   "execution_count": 33,
   "metadata": {},
   "outputs": [
    {
     "name": "stdout",
     "output_type": "stream",
     "text": [
      "[6, 6, 5, 5, 3, 3, 1, 2, 12]\n"
     ]
    }
   ],
   "source": [
    "newsort(L1,L2)"
   ]
  },
  {
   "cell_type": "markdown",
   "metadata": {},
   "source": [
    "Q1：The loop complexity of the first half is determined by the length of L1 and L2. When both are large, the complexity of the algorithm should be multiplied, so it is O(n^2).The worst-case complexity of the sort algorithm is O(nlogn).When calculating this two complexity, they should be added together, ignoring the smaller O(nlogn).So answer is O(n^2)\n",
    "\n"
   ]
  },
  {
   "cell_type": "markdown",
   "metadata": {},
   "source": [
    "Q2:Since the complexity of the loop part is determined by L1 and L2 together, when one of the numbers is particularly small, it can be regarded as a constant. The complexity of the loop becomes O(n). At this time, it will be ignored when added to the complexity of the sort algorithm. So the complexity of the algorithm becomes O(nlogn)"
   ]
  },
  {
   "cell_type": "code",
   "execution_count": null,
   "metadata": {},
   "outputs": [],
   "source": []
  }
 ],
 "metadata": {
  "kernelspec": {
   "display_name": "Python 3",
   "language": "python",
   "name": "python3"
  },
  "language_info": {
   "codemirror_mode": {
    "name": "ipython",
    "version": 3
   },
   "file_extension": ".py",
   "mimetype": "text/x-python",
   "name": "python",
   "nbconvert_exporter": "python",
   "pygments_lexer": "ipython3",
   "version": "3.8.5"
  }
 },
 "nbformat": 4,
 "nbformat_minor": 4
}
