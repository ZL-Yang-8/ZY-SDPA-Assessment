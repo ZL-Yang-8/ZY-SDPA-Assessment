{
 "cells": [
  {
   "cell_type": "code",
   "execution_count": 52,
   "metadata": {},
   "outputs": [
    {
     "name": "stdout",
     "output_type": "stream",
     "text": [
      "Requirement already satisfied: tweepy in d:\\anaconda\\lib\\site-packages (3.10.0)\n",
      "Requirement already satisfied: six>=1.10.0 in d:\\anaconda\\lib\\site-packages (from tweepy) (1.15.0)\n",
      "Requirement already satisfied: requests[socks]>=2.11.1 in d:\\anaconda\\lib\\site-packages (from tweepy) (2.24.0)\n",
      "Requirement already satisfied: requests-oauthlib>=0.7.0 in d:\\anaconda\\lib\\site-packages (from tweepy) (1.3.0)\n",
      "Requirement already satisfied: chardet<4,>=3.0.2 in d:\\anaconda\\lib\\site-packages (from requests[socks]>=2.11.1->tweepy) (3.0.4)\n",
      "Requirement already satisfied: urllib3!=1.25.0,!=1.25.1,<1.26,>=1.21.1 in d:\\anaconda\\lib\\site-packages (from requests[socks]>=2.11.1->tweepy) (1.25.11)\n",
      "Requirement already satisfied: idna<3,>=2.5 in d:\\anaconda\\lib\\site-packages (from requests[socks]>=2.11.1->tweepy) (2.10)\n",
      "Requirement already satisfied: certifi>=2017.4.17 in d:\\anaconda\\lib\\site-packages (from requests[socks]>=2.11.1->tweepy) (2020.6.20)\n",
      "Requirement already satisfied: PySocks!=1.5.7,>=1.5.6; extra == \"socks\" in d:\\anaconda\\lib\\site-packages (from requests[socks]>=2.11.1->tweepy) (1.7.1)\n",
      "Requirement already satisfied: oauthlib>=3.0.0 in d:\\anaconda\\lib\\site-packages (from requests-oauthlib>=0.7.0->tweepy) (3.1.0)\n"
     ]
    }
   ],
   "source": [
    "!pip install tweepy"
   ]
  },
  {
   "cell_type": "code",
   "execution_count": 5,
   "metadata": {},
   "outputs": [],
   "source": [
    "import tweepy\n",
    "import json\n",
    "import pandas as pd\n",
    "import csv"
   ]
  },
  {
   "cell_type": "code",
   "execution_count": 6,
   "metadata": {},
   "outputs": [],
   "source": [
    "CONSUMER_KEY = '9kE8EQme98rkTyatTfCRqeqaW'\n",
    "CONSUMER_SECRET = 'kAjv3TS7uoL4nbBirU7jPahjnET1PJmB7mWcAYv2kP5oxjI511'\n",
    "OAUTH_TOKEN = '1350545621455941633-KMBTL18k3lWwCfWz6h0xELWHYet9yH'\n",
    "OAUTH_TOKEN_SECRET = 'WIbgBWRvLAzOgtj3YZtBkvn9Pq1ZdzY9xY4C5Z5tw49FR'\n",
    "\n",
    "auth = tweepy.OAuthHandler(CONSUMER_KEY, CONSUMER_SECRET)\n",
    "auth.set_access_token(OAUTH_TOKEN, OAUTH_TOKEN_SECRET)\n",
    "\n",
    "api = tweepy.API(auth, wait_on_rate_limit=True,\n",
    "    wait_on_rate_limit_notify=True)"
   ]
  },
  {
   "cell_type": "code",
   "execution_count": 7,
   "metadata": {},
   "outputs": [
    {
     "name": "stdout",
     "output_type": "stream",
     "text": [
      "<tweepy.api.API object at 0x000001C524B7B580>\n"
     ]
    }
   ],
   "source": [
    "print (api)"
   ]
  },
  {
   "cell_type": "code",
   "execution_count": 9,
   "metadata": {},
   "outputs": [
    {
     "data": {
      "text/html": [
       "<div>\n",
       "<style scoped>\n",
       "    .dataframe tbody tr th:only-of-type {\n",
       "        vertical-align: middle;\n",
       "    }\n",
       "\n",
       "    .dataframe tbody tr th {\n",
       "        vertical-align: top;\n",
       "    }\n",
       "\n",
       "    .dataframe thead th {\n",
       "        text-align: right;\n",
       "    }\n",
       "</style>\n",
       "<table border=\"1\" class=\"dataframe\">\n",
       "  <thead>\n",
       "    <tr style=\"text-align: right;\">\n",
       "      <th></th>\n",
       "      <th>user</th>\n",
       "      <th>user_location</th>\n",
       "      <th>text</th>\n",
       "      <th>favorite_count</th>\n",
       "      <th>retweet_count</th>\n",
       "    </tr>\n",
       "  </thead>\n",
       "  <tbody>\n",
       "    <tr>\n",
       "      <th>0</th>\n",
       "      <td>Donna Darnell</td>\n",
       "      <td></td>\n",
       "      <td>@HealthyOklahoma @SenatorLankford @SenatorLank...</td>\n",
       "      <td>0</td>\n",
       "      <td>0</td>\n",
       "    </tr>\n",
       "    <tr>\n",
       "      <th>1</th>\n",
       "      <td>Mia Campbell</td>\n",
       "      <td></td>\n",
       "      <td>RT @SouthAfricanASP: ‘The world is on the edge...</td>\n",
       "      <td>0</td>\n",
       "      <td>21</td>\n",
       "    </tr>\n",
       "    <tr>\n",
       "      <th>2</th>\n",
       "      <td>Orian!</td>\n",
       "      <td>Gongaga</td>\n",
       "      <td>@glizzygobIin You off the covid vaccine</td>\n",
       "      <td>0</td>\n",
       "      <td>0</td>\n",
       "    </tr>\n",
       "    <tr>\n",
       "      <th>3</th>\n",
       "      <td>jo</td>\n",
       "      <td></td>\n",
       "      <td>Ramaphosa on Covid vaccine corruption, new alc...</td>\n",
       "      <td>0</td>\n",
       "      <td>0</td>\n",
       "    </tr>\n",
       "    <tr>\n",
       "      <th>4</th>\n",
       "      <td>Australian Times</td>\n",
       "      <td>London, UK</td>\n",
       "      <td>It’s crucial we address COVID vaccine hesitanc...</td>\n",
       "      <td>0</td>\n",
       "      <td>0</td>\n",
       "    </tr>\n",
       "    <tr>\n",
       "      <th>...</th>\n",
       "      <td>...</td>\n",
       "      <td>...</td>\n",
       "      <td>...</td>\n",
       "      <td>...</td>\n",
       "      <td>...</td>\n",
       "    </tr>\n",
       "    <tr>\n",
       "      <th>95</th>\n",
       "      <td>Stacee</td>\n",
       "      <td>RS</td>\n",
       "      <td>RT @megannmcc: I really don’t care to know if ...</td>\n",
       "      <td>0</td>\n",
       "      <td>3</td>\n",
       "    </tr>\n",
       "    <tr>\n",
       "      <th>96</th>\n",
       "      <td>Upstract News</td>\n",
       "      <td></td>\n",
       "      <td>Washington state taps Starbucks for help on Co...</td>\n",
       "      <td>0</td>\n",
       "      <td>0</td>\n",
       "    </tr>\n",
       "    <tr>\n",
       "      <th>97</th>\n",
       "      <td>peter toupin</td>\n",
       "      <td></td>\n",
       "      <td>I just read that the COVID vaccine can make yo...</td>\n",
       "      <td>0</td>\n",
       "      <td>0</td>\n",
       "    </tr>\n",
       "    <tr>\n",
       "      <th>98</th>\n",
       "      <td>Chris Kattan Stan Account</td>\n",
       "      <td>Sherman Oaks, CA</td>\n",
       "      <td>RT @weirdwithwords: this is before and after m...</td>\n",
       "      <td>0</td>\n",
       "      <td>5</td>\n",
       "    </tr>\n",
       "    <tr>\n",
       "      <th>99</th>\n",
       "      <td>We Deserve Better 👊🏻👊🏼👊🏽👊🏾👊🏿</td>\n",
       "      <td>Berkeley, CA</td>\n",
       "      <td>RT @NYTScience: Biden names former FDA chief D...</td>\n",
       "      <td>0</td>\n",
       "      <td>11</td>\n",
       "    </tr>\n",
       "  </tbody>\n",
       "</table>\n",
       "<p>100 rows × 5 columns</p>\n",
       "</div>"
      ],
      "text/plain": [
       "                            user     user_location  \\\n",
       "0                  Donna Darnell                     \n",
       "1                   Mia Campbell                     \n",
       "2                         Orian!           Gongaga   \n",
       "3                             jo                     \n",
       "4               Australian Times        London, UK   \n",
       "..                           ...               ...   \n",
       "95                        Stacee                RS   \n",
       "96                 Upstract News                     \n",
       "97                  peter toupin                     \n",
       "98     Chris Kattan Stan Account  Sherman Oaks, CA   \n",
       "99  We Deserve Better 👊🏻👊🏼👊🏽👊🏾👊🏿      Berkeley, CA   \n",
       "\n",
       "                                                 text  favorite_count  \\\n",
       "0   @HealthyOklahoma @SenatorLankford @SenatorLank...               0   \n",
       "1   RT @SouthAfricanASP: ‘The world is on the edge...               0   \n",
       "2             @glizzygobIin You off the covid vaccine               0   \n",
       "3   Ramaphosa on Covid vaccine corruption, new alc...               0   \n",
       "4   It’s crucial we address COVID vaccine hesitanc...               0   \n",
       "..                                                ...             ...   \n",
       "95  RT @megannmcc: I really don’t care to know if ...               0   \n",
       "96  Washington state taps Starbucks for help on Co...               0   \n",
       "97  I just read that the COVID vaccine can make yo...               0   \n",
       "98  RT @weirdwithwords: this is before and after m...               0   \n",
       "99  RT @NYTScience: Biden names former FDA chief D...               0   \n",
       "\n",
       "    retweet_count  \n",
       "0               0  \n",
       "1              21  \n",
       "2               0  \n",
       "3               0  \n",
       "4               0  \n",
       "..            ...  \n",
       "95              3  \n",
       "96              0  \n",
       "97              0  \n",
       "98              5  \n",
       "99             11  \n",
       "\n",
       "[100 rows x 5 columns]"
      ]
     },
     "execution_count": 9,
     "metadata": {},
     "output_type": "execute_result"
    }
   ],
   "source": [
    "tweets = api.search(q='\"Covid Vaccine\"-filter：retweets',count=150,lang=\"en\",tweet_mode='extended')\n",
    "\n",
    "\n",
    "tweet_df = pd.DataFrame()\n",
    "\n",
    "tweet_df['user']= [tweet.user.name for tweet in tweets]\n",
    "tweet_df['user_location']= [tweet.user.location for tweet in tweets]\n",
    "tweet_df['text']= [tweet.full_text for tweet in tweets]\n",
    "tweet_df['favorite_count']= [tweet.favorite_count for tweet in tweets]\n",
    "tweet_df['retweet_count']= [tweet.retweet_count for tweet in tweets]\n",
    "\n",
    "tweet_df"
   ]
  },
  {
   "cell_type": "code",
   "execution_count": 58,
   "metadata": {},
   "outputs": [],
   "source": [
    "tweet_df.to_csv('data1.csv', index=None)"
   ]
  },
  {
   "cell_type": "markdown",
   "metadata": {},
   "source": [
    "<font size=3>I choose twitter as my research object. I want to analyze people’s views on the covid-19 vaccine through what people say on Twitter.</font>"
   ]
  },
  {
   "cell_type": "markdown",
   "metadata": {},
   "source": [
    "<font size=3>There are five main variables that I selected. The reason why I did not choose time is because the time variable in a short span does not have much research significance. At the same time, the reason why I chose the user location here is because the place variable data is too small to support the research, so I chose user locations with relatively poor accuracy but more data entries. I hope to get people's emotional tendency by studying text univariate. On this basis, use the location variable and two data variables to find out the reasons that affect people's attitudes.</font>"
   ]
  },
  {
   "cell_type": "markdown",
   "metadata": {},
   "source": [
    "<font size=3>I used the official twitter developer account to get data through the API. In order to get more information, I use the extend mode to crawl the data with the keyword \"covid vaccine\" and set a filter to help me filter the data. Then I write the data to the data frame through a loop, and finally return it to a CSV file. Because of the single access limit, I can only get 100 valid data at a time. So I merged the data after exporting the data, and finally got 1157 valid data for analysis.</font>"
   ]
  },
  {
   "cell_type": "code",
   "execution_count": null,
   "metadata": {},
   "outputs": [],
   "source": []
  }
 ],
 "metadata": {
  "kernelspec": {
   "display_name": "Python 3",
   "language": "python",
   "name": "python3"
  },
  "language_info": {
   "codemirror_mode": {
    "name": "ipython",
    "version": 3
   },
   "file_extension": ".py",
   "mimetype": "text/x-python",
   "name": "python",
   "nbconvert_exporter": "python",
   "pygments_lexer": "ipython3",
   "version": "3.8.5"
  }
 },
 "nbformat": 4,
 "nbformat_minor": 4
}
